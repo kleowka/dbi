{
 "cells": [
  {
   "cell_type": "code",
   "execution_count": null,
   "id": "national-regard",
   "metadata": {},
   "outputs": [],
   "source": [
    "import numpy as np \n",
    "import pandas as pd \n",
    "import os\n",
    "from keras.callbacks import EarlyStopping\n",
    "\n",
    "label = pd.read_csv(os.getcwd()+ \"/labels.csv\")\n",
    "label['id1'] = label.id+'.jpg'\n",
    "\n",
    "import tensorflow as tf\n",
    "datagen = tf.keras.preprocessing.image.ImageDataGenerator(\n",
    "    rescale          =1./255,\n",
    "    horizontal_flip  = True,\n",
    "    validation_split = 0.20\n",
    ")\n",
    "\n",
    "train_generator224=datagen.flow_from_dataframe(\n",
    "    dataframe = label,\n",
    "    directory=os.getcwd()+ \"/train/\",\n",
    "    x_col=\"id1\",\n",
    "    y_col=\"breed\",\n",
    "    color_mode = 'rgb',\n",
    "    subset = 'training',\n",
    "    batch_size=256,\n",
    "    seed=42,\n",
    "    shuffle=False,\n",
    "    class_mode=\"categorical\",\n",
    "    target_size=(224,224)\n",
    ")\n",
    "\n",
    "val_generator300=datagen.flow_from_dataframe(\n",
    "    dataframe = label,\n",
    "    directory=os.getcwd()+ \"/train/\",\n",
    "    x_col=\"id1\",\n",
    "    y_col=\"breed\",\n",
    "    color_mode = 'rgb',\n",
    "    subset = 'validation',\n",
    "    batch_size=256,\n",
    "    seed=42,\n",
    "    shuffle=False,\n",
    "    class_mode=\"categorical\",\n",
    "    target_size=(300,300)\n",
    ")\n",
    "train_generator331=datagen.flow_from_dataframe(\n",
    "    dataframe = label,\n",
    "    directory=os.getcwd()+ \"/train/\",\n",
    "    x_col=\"id1\",\n",
    "    y_col=\"breed\",\n",
    "    color_mode = 'rgb',\n",
    "    subset = 'training',\n",
    "    batch_size=256,\n",
    "    seed=42,\n",
    "    shuffle=False,\n",
    "    class_mode=\"categorical\",\n",
    "    target_size=(331,331)\n",
    ")\n",
    "\n",
    "val_generator299=datagen.flow_from_dataframe(\n",
    "    dataframe = label,\n",
    "    directory=os.getcwd()+ \"/train/\",\n",
    "    x_col=\"id1\",\n",
    "    y_col=\"breed\",\n",
    "    color_mode = 'rgb',\n",
    "    subset = 'validation',\n",
    "    batch_size=256,\n",
    "    seed=42,\n",
    "    shuffle=False,\n",
    "    class_mode=\"categorical\",\n",
    "    target_size=(299,299)\n",
    ")"
   ]
  },
  {
   "cell_type": "code",
   "execution_count": 18,
   "id": "greatest-fifty",
   "metadata": {
    "scrolled": true
   },
   "outputs": [],
   "source": [
    "import numpy as np \n",
    "import pandas as pd \n",
    "import os\n",
    "from keras.callbacks import EarlyStopping"
   ]
  },
  {
   "cell_type": "code",
   "execution_count": 19,
   "id": "collective-pizza",
   "metadata": {},
   "outputs": [],
   "source": [
    "mnv = tf.keras.applications.inception_v3.InceptionV3(include_top = False,\n",
    "                                           weights      = 'imagenet',\n",
    "                                           input_shape = (300,300,3))\n",
    "mnv.trainbale = False\n",
    "for layer in mnv.layers:\n",
    "    layer.trainable = False\n",
    "    \n",
    "modelInv3 = tf.keras.Sequential([\n",
    "    mnv,\n",
    "    tf.keras.layers.Flatten(),\n",
    "    tf.keras.layers.Dense(512,activation ='relu'),\n",
    "    tf.keras.layers.Dropout(0.1),\n",
    "    tf.keras.layers.Dense(256,activation ='relu'),\n",
    "    tf.keras.layers.Dropout(0.1),\n",
    "    tf.keras.layers.Dense(120,activation = 'softmax')\n",
    "])\n",
    "\n",
    "\n",
    "\n",
    "modelInv3.compile(loss = 'categorical_crossentropy',\n",
    "              optimizer = tf.keras.optimizers.Adam(),\n",
    "              metrics   = ['accuracy'])\n",
    "\n"
   ]
  },
  {
   "cell_type": "code",
   "execution_count": 20,
   "id": "increasing-movie",
   "metadata": {
    "scrolled": false
   },
   "outputs": [],
   "source": [
    "pretrained_model = tf.keras.applications.ResNet50(include_top=False ,\n",
    "                                                     weights='imagenet',  \n",
    "                                                     input_shape=(300,300,3))\n",
    "pretrained_model.trainable = False\n",
    "    \n",
    "modelRn = tf.keras.Sequential([ \n",
    "        pretrained_model,   \n",
    "        tf.keras.layers.GlobalAveragePooling2D(),\n",
    "        #tf.keras.layers.Dense(256, activation='relu'),\n",
    "        #tf.keras.layers.Dropout(0.5),\n",
    "        tf.keras.layers.Dense(120, activation='softmax')\n",
    "        ])\n",
    "\n",
    "modelRn.compile(loss = 'categorical_crossentropy',\n",
    "              optimizer = tf.keras.optimizers.Adam(),\n",
    "              metrics   = ['accuracy'])\n",
    "\n"
   ]
  },
  {
   "cell_type": "code",
   "execution_count": 21,
   "id": "revised-simple",
   "metadata": {},
   "outputs": [],
   "source": [
    "pretrained_modelnnl = tf.keras.applications.NASNetLarge(include_top=False ,\n",
    "                                                     weights='imagenet',  \n",
    "                                                     input_shape=(331,331,3))\n",
    "pretrained_modelnnl.trainable = False\n",
    "    \n",
    "modelnnl = tf.keras.Sequential([ \n",
    "        pretrained_modelnnl,   \n",
    "        tf.keras.layers.GlobalAveragePooling2D(),\n",
    "        tf.keras.layers.Dense(120, activation='softmax')\n",
    "    ])\n",
    "\n",
    "opt=tf.keras.optimizers.SGD(lr=1e-3, momentum=0.9)\n",
    "\n",
    "modelnnl.compile(optimizer = opt ,\n",
    "              loss=\"categorical_crossentropy\",\n",
    "              metrics=[\"accuracy\"])"
   ]
  },
  {
   "cell_type": "code",
   "execution_count": 22,
   "id": "preliminary-pollution",
   "metadata": {
    "scrolled": true
   },
   "outputs": [],
   "source": [
    "\n",
    "modelnnl.load_weights(\"NASNetLarge_15_epoch.h5\")\n",
    "\n",
    "#modelRn.load_weights(\"ResNet50.h5\")\n",
    "#modelInv3.load_weights(\"IncepV3.h5\")"
   ]
  },
  {
   "cell_type": "code",
   "execution_count": null,
   "id": "centered-drill",
   "metadata": {},
   "outputs": [],
   "source": [
    "datagenX = tf.keras.preprocessing.image.ImageDataGenerator(\n",
    "    rescale          =1./255\n",
    ")\n",
    "test_dir = os.getcwd()+ \"/test\"\n",
    "generator = datagenX.flow_from_directory(\n",
    "        '.',\n",
    "        target_size=(331, 331),\n",
    "        batch_size=256,\n",
    "        color_mode = 'rgb',\n",
    "        classes=['test'],  # only data, no labels\n",
    "        shuffle=False\n",
    ")\n",
    "filenames = generator.filenames\n",
    "nb_samples = len(filenames)\n",
    "nb_samples"
   ]
  },
  {
   "cell_type": "code",
   "execution_count": null,
   "id": "modular-execution",
   "metadata": {},
   "outputs": [],
   "source": [
    "predict = modelnnl.predict(generator,steps = \n",
    "                                   np.ceil(nb_samples/256))"
   ]
  },
  {
   "cell_type": "code",
   "execution_count": null,
   "id": "acceptable-ordering",
   "metadata": {},
   "outputs": [],
   "source": [
    "predict = modelnnl.evaluate(generator,steps = \n",
    "                                   np.ceil(nb_samples/256))\n",
    "predict"
   ]
  },
  {
   "cell_type": "code",
   "execution_count": null,
   "id": "prospective-semester",
   "metadata": {},
   "outputs": [],
   "source": []
  }
 ],
 "metadata": {
  "kernelspec": {
   "display_name": "Python [conda env:crossEnv] *",
   "language": "python",
   "name": "conda-env-crossEnv-py"
  }
 },
 "nbformat": 4,
 "nbformat_minor": 5
}
